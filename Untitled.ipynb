{
 "cells": [
  {
   "cell_type": "markdown",
   "id": "428aea4f",
   "metadata": {},
   "source": [
    "# hafta1\n",
    "* platform tanima\n",
    "* kaynak tanima \n",
    "\n",
    "\n",
    "* ilk kod"
   ]
  },
  {
   "cell_type": "code",
   "execution_count": 1,
   "id": "44b9da54",
   "metadata": {},
   "outputs": [
    {
     "name": "stdout",
     "output_type": "stream",
     "text": [
      "dostlar , merhaba\n"
     ]
    }
   ],
   "source": [
    "print('dostlar , merhaba')"
   ]
  },
  {
   "cell_type": "markdown",
   "id": "91c87429",
   "metadata": {},
   "source": [
    "# 2 HAFTA 2 veri tipleri , degiskenler , kosullar\n",
    "# 2.1 karakter dizileri (string)"
   ]
  },
  {
   "cell_type": "code",
   "execution_count": 2,
   "id": "82635e5f",
   "metadata": {},
   "outputs": [
    {
     "data": {
      "text/plain": [
       "'ileri bilgisayar programlama '"
      ]
     },
     "execution_count": 2,
     "metadata": {},
     "output_type": "execute_result"
    }
   ],
   "source": [
    "'ileri bilgisayar programlama '"
   ]
  },
  {
   "cell_type": "code",
   "execution_count": 3,
   "id": "3e3d44e7",
   "metadata": {},
   "outputs": [
    {
     "data": {
      "text/plain": [
       "'   '"
      ]
     },
     "execution_count": 3,
     "metadata": {},
     "output_type": "execute_result"
    }
   ],
   "source": [
    "'t'\n",
    "'   '"
   ]
  },
  {
   "cell_type": "code",
   "execution_count": 4,
   "id": "585b0488",
   "metadata": {},
   "outputs": [
    {
     "data": {
      "text/plain": [
       "'selam muhendeslik adaylari'"
      ]
     },
     "execution_count": 4,
     "metadata": {},
     "output_type": "execute_result"
    }
   ],
   "source": [
    "'selam'+' muhendeslik adaylari'"
   ]
  },
  {
   "cell_type": "code",
   "execution_count": 5,
   "id": "e09f1d35",
   "metadata": {},
   "outputs": [
    {
     "data": {
      "text/plain": [
       "'mawadamawadamawada'"
      ]
     },
     "execution_count": 5,
     "metadata": {},
     "output_type": "execute_result"
    }
   ],
   "source": [
    "'mawada'*3"
   ]
  },
  {
   "cell_type": "code",
   "execution_count": 6,
   "id": "4aba7c90",
   "metadata": {},
   "outputs": [
    {
     "data": {
      "text/plain": [
       "'$M$$M$$M$$M$$M$$M$'"
      ]
     },
     "execution_count": 6,
     "metadata": {},
     "output_type": "execute_result"
    }
   ],
   "source": [
    "'$M$'*6"
   ]
  },
  {
   "cell_type": "markdown",
   "id": "ef29d4dc",
   "metadata": {},
   "source": [
    "## Tybe ve len fonksiyonlari\n",
    "* tybe : kullanilan verinin veya degislenin tipini verir.\n",
    "* len : string uzunlugu verir."
   ]
  },
  {
   "cell_type": "code",
   "execution_count": 7,
   "id": "43cf6c42",
   "metadata": {},
   "outputs": [
    {
     "data": {
      "text/plain": [
       "str"
      ]
     },
     "execution_count": 7,
     "metadata": {},
     "output_type": "execute_result"
    }
   ],
   "source": [
    "type('selam')"
   ]
  },
  {
   "cell_type": "code",
   "execution_count": 8,
   "id": "469d1fa1",
   "metadata": {},
   "outputs": [
    {
     "data": {
      "text/plain": [
       "7"
      ]
     },
     "execution_count": 8,
     "metadata": {},
     "output_type": "execute_result"
    }
   ],
   "source": [
    "len('sdsdsds')"
   ]
  },
  {
   "cell_type": "code",
   "execution_count": 9,
   "id": "36150d6c",
   "metadata": {},
   "outputs": [
    {
     "data": {
      "text/plain": [
       "6"
      ]
     },
     "execution_count": 9,
     "metadata": {},
     "output_type": "execute_result"
    }
   ],
   "source": [
    "len('121212')"
   ]
  },
  {
   "cell_type": "code",
   "execution_count": 10,
   "id": "31d06480",
   "metadata": {},
   "outputs": [
    {
     "data": {
      "text/plain": [
       "int"
      ]
     },
     "execution_count": 10,
     "metadata": {},
     "output_type": "execute_result"
    }
   ],
   "source": [
    "type(121212)"
   ]
  },
  {
   "cell_type": "markdown",
   "id": "136f0ac3",
   "metadata": {},
   "source": [
    "# sayilara giris\n",
    "* python da integral , float ve complex olmak uzere 3 tip sayi vardir. float sayilar virgule degil, noktayla ayrilir."
   ]
  },
  {
   "cell_type": "code",
   "execution_count": 11,
   "id": "26817b59",
   "metadata": {},
   "outputs": [
    {
     "data": {
      "text/plain": [
       "complex"
      ]
     },
     "execution_count": 11,
     "metadata": {},
     "output_type": "execute_result"
    }
   ],
   "source": [
    "type(10)\n",
    "type(10.3)\n",
    "type(10+9j)"
   ]
  },
  {
   "cell_type": "code",
   "execution_count": 12,
   "id": "5bd29e1e",
   "metadata": {},
   "outputs": [
    {
     "data": {
      "text/plain": [
       "4.666666666666667"
      ]
     },
     "execution_count": 12,
     "metadata": {},
     "output_type": "execute_result"
    }
   ],
   "source": [
    "14/3"
   ]
  },
  {
   "cell_type": "code",
   "execution_count": 13,
   "id": "cd4437be",
   "metadata": {},
   "outputs": [
    {
     "data": {
      "text/plain": [
       "8"
      ]
     },
     "execution_count": 13,
     "metadata": {},
     "output_type": "execute_result"
    }
   ],
   "source": [
    "2**3"
   ]
  },
  {
   "cell_type": "code",
   "execution_count": 14,
   "id": "0aa36daf",
   "metadata": {},
   "outputs": [
    {
     "data": {
      "text/plain": [
       "4.0"
      ]
     },
     "execution_count": 14,
     "metadata": {},
     "output_type": "execute_result"
    }
   ],
   "source": [
    "12/3"
   ]
  },
  {
   "cell_type": "markdown",
   "id": "9c1df682",
   "metadata": {},
   "source": [
    "# 2.4 degiskenler"
   ]
  },
  {
   "cell_type": "code",
   "execution_count": 15,
   "id": "d220f99c",
   "metadata": {},
   "outputs": [],
   "source": [
    "isim='mawada'"
   ]
  },
  {
   "cell_type": "code",
   "execution_count": 16,
   "id": "34c5ef4d",
   "metadata": {},
   "outputs": [
    {
     "data": {
      "text/plain": [
       "'mawada'"
      ]
     },
     "execution_count": 16,
     "metadata": {},
     "output_type": "execute_result"
    }
   ],
   "source": [
    "isim"
   ]
  },
  {
   "cell_type": "markdown",
   "id": "5dd425a6",
   "metadata": {},
   "source": [
    "degisken belirleme kurallari \n",
    "*sayi ile baslayamaz\n",
    "*aritmetik isaretlerle baslayamaz ama_ alt cizgi ile baslayabilir(+,*,-</)\n",
    "*busluk kullanilmaz\n",
    "*ozel kalimelerkullanilmaz(if,for,while,true,false)\n",
    "*buyuk kucuk harf ayrimi vardir\n",
    "*alfabe harfi veya alt cizgi ile baslayabilir\n",
    "*olabildigince tanimlayaci ve okunabilir olmalidir"
   ]
  },
  {
   "cell_type": "code",
   "execution_count": 18,
   "id": "9a7d765c",
   "metadata": {},
   "outputs": [
    {
     "data": {
      "text/plain": [
       "['False',\n",
       " 'None',\n",
       " 'True',\n",
       " '__peg_parser__',\n",
       " 'and',\n",
       " 'as',\n",
       " 'assert',\n",
       " 'async',\n",
       " 'await',\n",
       " 'break',\n",
       " 'class',\n",
       " 'continue',\n",
       " 'def',\n",
       " 'del',\n",
       " 'elif',\n",
       " 'else',\n",
       " 'except',\n",
       " 'finally',\n",
       " 'for',\n",
       " 'from',\n",
       " 'global',\n",
       " 'if',\n",
       " 'import',\n",
       " 'in',\n",
       " 'is',\n",
       " 'lambda',\n",
       " 'nonlocal',\n",
       " 'not',\n",
       " 'or',\n",
       " 'pass',\n",
       " 'raise',\n",
       " 'return',\n",
       " 'try',\n",
       " 'while',\n",
       " 'with',\n",
       " 'yield']"
      ]
     },
     "execution_count": 18,
     "metadata": {},
     "output_type": "execute_result"
    }
   ],
   "source": [
    "import keyword\n",
    "yasaklikelimeler=keyword.kwlist\n",
    "yasaklikelimeler"
   ]
  },
  {
   "cell_type": "code",
   "execution_count": 19,
   "id": "fd00b77f",
   "metadata": {},
   "outputs": [
    {
     "data": {
      "text/plain": [
       "36"
      ]
     },
     "execution_count": 19,
     "metadata": {},
     "output_type": "execute_result"
    }
   ],
   "source": [
    "import keyword\n",
    "yasaklikelimeler=keyword.kwlist\n",
    "len(yasaklikelimeler)\n"
   ]
  },
  {
   "cell_type": "markdown",
   "id": "155cf0d7",
   "metadata": {},
   "source": [
    "import keyword\n",
    "yasaklilelimeler=keyword.kwlist\n",
    "yasaklikelimeler"
   ]
  },
  {
   "cell_type": "markdown",
   "id": "ff10e93d",
   "metadata": {},
   "source": [
    "# 2.4.1 bazi ipuclar\n",
    "*ortalama bulma"
   ]
  },
  {
   "cell_type": "code",
   "execution_count": 21,
   "id": "077e56c5",
   "metadata": {},
   "outputs": [
    {
     "data": {
      "text/plain": [
       "62.0"
      ]
     },
     "execution_count": 21,
     "metadata": {},
     "output_type": "execute_result"
    }
   ],
   "source": [
    "vize=50\n",
    "final=70\n",
    "ortalama=vize*0.4+final*0.6\n",
    "ortalama"
   ]
  },
  {
   "cell_type": "code",
   "execution_count": 22,
   "id": "44aa6e17",
   "metadata": {},
   "outputs": [
    {
     "data": {
      "text/plain": [
       "31.400000000000002"
      ]
     },
     "execution_count": 22,
     "metadata": {},
     "output_type": "execute_result"
    }
   ],
   "source": [
    "r=5\n",
    "pi=3.14\n",
    "cevre=2*pi*r\n",
    "cevre"
   ]
  },
  {
   "cell_type": "code",
   "execution_count": 23,
   "id": "59686791",
   "metadata": {},
   "outputs": [
    {
     "data": {
      "text/plain": [
       "3"
      ]
     },
     "execution_count": 23,
     "metadata": {},
     "output_type": "execute_result"
    }
   ],
   "source": [
    "13//4"
   ]
  },
  {
   "cell_type": "code",
   "execution_count": 24,
   "id": "d7de5dd8",
   "metadata": {},
   "outputs": [
    {
     "data": {
      "text/plain": [
       "3.25"
      ]
     },
     "execution_count": 24,
     "metadata": {},
     "output_type": "execute_result"
    }
   ],
   "source": [
    "13/4"
   ]
  },
  {
   "cell_type": "code",
   "execution_count": 1,
   "id": "c3b5047e",
   "metadata": {},
   "outputs": [
    {
     "name": "stdout",
     "output_type": "stream",
     "text": [
      "hi 12\n"
     ]
    }
   ],
   "source": [
    "print('hi', 10+2)"
   ]
  },
  {
   "cell_type": "code",
   "execution_count": 2,
   "id": "b809085f",
   "metadata": {},
   "outputs": [],
   "source": [
    "n=\"3.14\""
   ]
  },
  {
   "cell_type": "code",
   "execution_count": 3,
   "id": "cbf4c0e1",
   "metadata": {},
   "outputs": [
    {
     "data": {
      "text/plain": [
       "3.14"
      ]
     },
     "execution_count": 3,
     "metadata": {},
     "output_type": "execute_result"
    }
   ],
   "source": [
    "float(n)"
   ]
  },
  {
   "cell_type": "code",
   "execution_count": 4,
   "id": "1d70b6ec",
   "metadata": {},
   "outputs": [
    {
     "ename": "ValueError",
     "evalue": "invalid literal for int() with base 10: '3.14'",
     "output_type": "error",
     "traceback": [
      "\u001b[1;31m---------------------------------------------------------------------------\u001b[0m",
      "\u001b[1;31mValueError\u001b[0m                                Traceback (most recent call last)",
      "Input \u001b[1;32mIn [4]\u001b[0m, in \u001b[0;36m<cell line: 1>\u001b[1;34m()\u001b[0m\n\u001b[1;32m----> 1\u001b[0m \u001b[38;5;28;43mint\u001b[39;49m\u001b[43m(\u001b[49m\u001b[43mn\u001b[49m\u001b[43m)\u001b[49m\n",
      "\u001b[1;31mValueError\u001b[0m: invalid literal for int() with base 10: '3.14'"
     ]
    }
   ],
   "source": [
    "int(n)"
   ]
  },
  {
   "cell_type": "code",
   "execution_count": 5,
   "id": "692c0eaa",
   "metadata": {},
   "outputs": [
    {
     "name": "stdout",
     "output_type": "stream",
     "text": [
      "3.14\n"
     ]
    }
   ],
   "source": [
    "print(float(n))"
   ]
  },
  {
   "cell_type": "code",
   "execution_count": 6,
   "id": "c97ef5f1",
   "metadata": {},
   "outputs": [
    {
     "ename": "ValueError",
     "evalue": "invalid literal for int() with base 10: '3.14'",
     "output_type": "error",
     "traceback": [
      "\u001b[1;31m---------------------------------------------------------------------------\u001b[0m",
      "\u001b[1;31mValueError\u001b[0m                                Traceback (most recent call last)",
      "Input \u001b[1;32mIn [6]\u001b[0m, in \u001b[0;36m<cell line: 1>\u001b[1;34m()\u001b[0m\n\u001b[1;32m----> 1\u001b[0m \u001b[38;5;28mprint\u001b[39m(\u001b[38;5;28;43mint\u001b[39;49m\u001b[43m(\u001b[49m\u001b[43mn\u001b[49m\u001b[43m)\u001b[49m)\n",
      "\u001b[1;31mValueError\u001b[0m: invalid literal for int() with base 10: '3.14'"
     ]
    }
   ],
   "source": [
    "print(int(n))"
   ]
  },
  {
   "cell_type": "code",
   "execution_count": 7,
   "id": "5a7f9e14",
   "metadata": {},
   "outputs": [
    {
     "name": "stdout",
     "output_type": "stream",
     "text": [
      "3\n"
     ]
    }
   ],
   "source": [
    "print(int(float(n)))"
   ]
  },
  {
   "cell_type": "code",
   "execution_count": 1,
   "id": "9c9c4192",
   "metadata": {},
   "outputs": [],
   "source": [
    "a=6"
   ]
  },
  {
   "cell_type": "code",
   "execution_count": 2,
   "id": "43f37b05",
   "metadata": {},
   "outputs": [
    {
     "data": {
      "text/plain": [
       "True"
      ]
     },
     "execution_count": 2,
     "metadata": {},
     "output_type": "execute_result"
    }
   ],
   "source": [
    "a==6"
   ]
  },
  {
   "cell_type": "code",
   "execution_count": 3,
   "id": "5fb84cac",
   "metadata": {},
   "outputs": [
    {
     "data": {
      "text/plain": [
       "False"
      ]
     },
     "execution_count": 3,
     "metadata": {},
     "output_type": "execute_result"
    }
   ],
   "source": [
    "a==8"
   ]
  },
  {
   "cell_type": "code",
   "execution_count": 4,
   "id": "2f77b402",
   "metadata": {},
   "outputs": [
    {
     "data": {
      "text/plain": [
       "True"
      ]
     },
     "execution_count": 4,
     "metadata": {},
     "output_type": "execute_result"
    }
   ],
   "source": [
    "bool('1')"
   ]
  },
  {
   "cell_type": "code",
   "execution_count": 5,
   "id": "b646e899",
   "metadata": {},
   "outputs": [
    {
     "data": {
      "text/plain": [
       "True"
      ]
     },
     "execution_count": 5,
     "metadata": {},
     "output_type": "execute_result"
    }
   ],
   "source": [
    "bool('2')"
   ]
  },
  {
   "cell_type": "code",
   "execution_count": 6,
   "id": "b50b0c6d",
   "metadata": {},
   "outputs": [
    {
     "data": {
      "text/plain": [
       "True"
      ]
     },
     "execution_count": 6,
     "metadata": {},
     "output_type": "execute_result"
    }
   ],
   "source": [
    "bool('6')"
   ]
  },
  {
   "cell_type": "code",
   "execution_count": 7,
   "id": "38dd6b79",
   "metadata": {},
   "outputs": [
    {
     "data": {
      "text/plain": [
       "True"
      ]
     },
     "execution_count": 7,
     "metadata": {},
     "output_type": "execute_result"
    }
   ],
   "source": [
    "bool(2)"
   ]
  },
  {
   "cell_type": "code",
   "execution_count": 8,
   "id": "69ba65fa",
   "metadata": {},
   "outputs": [
    {
     "data": {
      "text/plain": [
       "True"
      ]
     },
     "execution_count": 8,
     "metadata": {},
     "output_type": "execute_result"
    }
   ],
   "source": [
    "bool(\" \")"
   ]
  },
  {
   "cell_type": "code",
   "execution_count": null,
   "id": "e04af670",
   "metadata": {},
   "outputs": [],
   "source": [
    "  "
   ]
  },
  {
   "cell_type": "code",
   "execution_count": null,
   "id": "7a56d71d",
   "metadata": {},
   "outputs": [],
   "source": []
  },
  {
   "cell_type": "code",
   "execution_count": 9,
   "id": "50aec310",
   "metadata": {},
   "outputs": [
    {
     "data": {
      "text/plain": [
       "False"
      ]
     },
     "execution_count": 9,
     "metadata": {},
     "output_type": "execute_result"
    }
   ],
   "source": [
    "bool(0)"
   ]
  },
  {
   "cell_type": "code",
   "execution_count": 10,
   "id": "20b2d9aa",
   "metadata": {},
   "outputs": [
    {
     "data": {
      "text/plain": [
       "False"
      ]
     },
     "execution_count": 10,
     "metadata": {},
     "output_type": "execute_result"
    }
   ],
   "source": [
    "bool('')"
   ]
  },
  {
   "cell_type": "code",
   "execution_count": null,
   "id": "b882ea7f",
   "metadata": {},
   "outputs": [],
   "source": []
  },
  {
   "cell_type": "code",
   "execution_count": null,
   "id": "039c54af",
   "metadata": {},
   "outputs": [],
   "source": []
  }
 ],
 "metadata": {
  "kernelspec": {
   "display_name": "Python 3 (ipykernel)",
   "language": "python",
   "name": "python3"
  },
  "language_info": {
   "codemirror_mode": {
    "name": "ipython",
    "version": 3
   },
   "file_extension": ".py",
   "mimetype": "text/x-python",
   "name": "python",
   "nbconvert_exporter": "python",
   "pygments_lexer": "ipython3",
   "version": "3.9.12"
  }
 },
 "nbformat": 4,
 "nbformat_minor": 5
}
