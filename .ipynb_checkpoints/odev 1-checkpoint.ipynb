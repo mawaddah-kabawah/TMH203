{
 "cells": [
  {
   "cell_type": "markdown",
   "id": "6ae31424",
   "metadata": {},
   "source": [
    "## first home work"
   ]
  },
  {
   "cell_type": "markdown",
   "id": "432967a4",
   "metadata": {},
   "source": [
    "* 1- finiding the acceleration"
   ]
  },
  {
   "cell_type": "code",
   "execution_count": 1,
   "id": "873bfc35",
   "metadata": {},
   "outputs": [
    {
     "name": "stdout",
     "output_type": "stream",
     "text": [
      "input the vinal velocity: 6\n",
      "input the initial velocity: 2\n",
      "input the time2\n",
      "the acceleration is 2.0 m/s**2\n"
     ]
    }
   ],
   "source": [
    "v2=int(input('input the final velocity: '))\n",
    "v1=int(input('input the initial velocity: '))\n",
    "time=int(input('input the time'))\n",
    "a=(v2-v1)/time\n",
    "print('the acceleration is {} m/s**2' . format(a))"
   ]
  },
  {
   "cell_type": "markdown",
   "id": "9deccd40",
   "metadata": {},
   "source": [
    "* 2- circumference of a circle"
   ]
  },
  {
   "cell_type": "code",
   "execution_count": 3,
   "id": "7768530b",
   "metadata": {},
   "outputs": [
    {
     "name": "stdout",
     "output_type": "stream",
     "text": [
      "input the radius of the circle: 2\n",
      "the answer is 12.56 cm\n"
     ]
    }
   ],
   "source": [
    "r=int(input('input the radius of the circle: '))\n",
    "pi=3.14\n",
    "circumference=r**2*pi\n",
    "print('the answer is {} cm' . format(circumference))"
   ]
  },
  {
   "cell_type": "markdown",
   "id": "85fce57c",
   "metadata": {},
   "source": [
    "* Finding the Type of Angle in a Triangle"
   ]
  },
  {
   "cell_type": "code",
   "execution_count": null,
   "id": "f62c76d1",
   "metadata": {},
   "outputs": [],
   "source": [
    "A=int(input('input A angle: '))\n",
    "B=int(input('input B angle: '))\n",
    "C=int(input('input C angle: '))\n",
    "if A==90:\n",
    "    print('Right-angled')\n",
    "elif B==90:\n",
    "    print('Right-angled')\n",
    "elif C==90:\n",
    "    print('Right-angled')\n",
    "elif A>90:\n",
    "    print('obtuse angle')\n",
    "elif B>90:\n",
    "    print('obtuse angle')\n",
    "elif C>90:\n",
    "    print('obtuse angle')\n",
    "else:\n",
    "    print('Acute angle')"
   ]
  },
  {
   "cell_type": "code",
   "execution_count": null,
   "id": "e72fa905",
   "metadata": {},
   "outputs": [],
   "source": []
  },
  {
   "cell_type": "code",
   "execution_count": null,
   "id": "e851e539",
   "metadata": {},
   "outputs": [],
   "source": []
  }
 ],
 "metadata": {
  "kernelspec": {
   "display_name": "Python 3 (ipykernel)",
   "language": "python",
   "name": "python3"
  },
  "language_info": {
   "codemirror_mode": {
    "name": "ipython",
    "version": 3
   },
   "file_extension": ".py",
   "mimetype": "text/x-python",
   "name": "python",
   "nbconvert_exporter": "python",
   "pygments_lexer": "ipython3",
   "version": "3.9.12"
  }
 },
 "nbformat": 4,
 "nbformat_minor": 5
}
