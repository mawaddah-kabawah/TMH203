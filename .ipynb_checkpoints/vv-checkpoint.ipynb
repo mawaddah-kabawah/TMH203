{
 "cells": [
  {
   "cell_type": "code",
   "execution_count": null,
   "id": "99b95808",
   "metadata": {},
   "outputs": [],
   "source": [
    "nbn"
   ]
  },
  {
   "cell_type": "code",
   "execution_count": null,
   "id": "7b469046",
   "metadata": {},
   "outputs": [],
   "source": []
  },
  {
   "cell_type": "code",
   "execution_count": 1,
   "id": "6300ba30",
   "metadata": {},
   "outputs": [
    {
     "data": {
      "text/plain": [
       "float"
      ]
     },
     "execution_count": 1,
     "metadata": {},
     "output_type": "execute_result"
    }
   ],
   "source": [
    "type(10.3)"
   ]
  },
  {
   "cell_type": "code",
   "execution_count": 2,
   "id": "fe5f4971",
   "metadata": {},
   "outputs": [
    {
     "data": {
      "text/plain": [
       "str"
      ]
     },
     "execution_count": 2,
     "metadata": {},
     "output_type": "execute_result"
    }
   ],
   "source": [
    "type('10.3')"
   ]
  },
  {
   "cell_type": "code",
   "execution_count": 3,
   "id": "67cde6b1",
   "metadata": {},
   "outputs": [
    {
     "name": "stdout",
     "output_type": "stream",
     "text": [
      "hi\n"
     ]
    }
   ],
   "source": [
    "print(\"hi\")"
   ]
  },
  {
   "cell_type": "code",
   "execution_count": 4,
   "id": "dea26c67",
   "metadata": {},
   "outputs": [
    {
     "name": "stdout",
     "output_type": "stream",
     "text": [
      "hi\n"
     ]
    }
   ],
   "source": [
    "print('hi')"
   ]
  },
  {
   "cell_type": "code",
   "execution_count": 5,
   "id": "cb2fc767",
   "metadata": {},
   "outputs": [
    {
     "name": "stdout",
     "output_type": "stream",
     "text": [
      " hi\n",
      "hi\n"
     ]
    }
   ],
   "source": [
    "print(''' hi\n",
    "hi''')"
   ]
  },
  {
   "cell_type": "code",
   "execution_count": 7,
   "id": "19ac2df9",
   "metadata": {},
   "outputs": [
    {
     "name": "stdout",
     "output_type": "stream",
     "text": [
      "vise sinavinda 90 aldim ama finalde 75 aldim\n"
     ]
    }
   ],
   "source": [
    "midterm=90\n",
    "final=75\n",
    "print('vise sinavinda {} aldim ama finalde {} aldim'. format(midterm,final))"
   ]
  },
  {
   "cell_type": "code",
   "execution_count": 11,
   "id": "0cbaa448",
   "metadata": {},
   "outputs": [
    {
     "ename": "SyntaxError",
     "evalue": "invalid syntax (753897825.py, line 2)",
     "output_type": "error",
     "traceback": [
      "\u001b[1;36m  Input \u001b[1;32mIn [11]\u001b[1;36m\u001b[0m\n\u001b[1;33m    |operator| anlami|\u001b[0m\n\u001b[1;37m    ^\u001b[0m\n\u001b[1;31mSyntaxError\u001b[0m\u001b[1;31m:\u001b[0m invalid syntax\n"
     ]
    }
   ],
   "source": [
    "## karsilastirma operatorleri ve kosullar\n",
    "|operator| anlami|\n",
    "|--------|-------|\n",
    "|<| kucuk|"
   ]
  },
  {
   "cell_type": "markdown",
   "id": "f059acc4",
   "metadata": {},
   "source": []
  },
  {
   "cell_type": "markdown",
   "id": "ddac04a0",
   "metadata": {},
   "source": [
    "*if\n",
    "*elif\n",
    "*else"
   ]
  },
  {
   "cell_type": "code",
   "execution_count": 17,
   "id": "a248fa0b",
   "metadata": {},
   "outputs": [
    {
     "name": "stdout",
     "output_type": "stream",
     "text": [
      "bir sayi giriniz2\n",
      "sayi positive\n"
     ]
    }
   ],
   "source": [
    "a=int(input('bir sayi giriniz'))\n",
    "if a<0:\n",
    "      print('sayi negatif')\n",
    "elif a>0:\n",
    "      print('sayi positive')\n",
    "else:\n",
    "      print('sayi sifirdir')"
   ]
  },
  {
   "cell_type": "code",
   "execution_count": 20,
   "id": "7a994a1c",
   "metadata": {},
   "outputs": [
    {
     "name": "stdout",
     "output_type": "stream",
     "text": [
      "A kenari giriniz:2\n",
      "B kenarini giriniz:3\n",
      "c kinari=6.5\n"
     ]
    }
   ],
   "source": [
    "a=int(input('A kenari giriniz:'))\n",
    "b=int(input('B kenarini giriniz:'))\n",
    "c=(a**2+b**2)**1/2\n",
    "print('c kinari=' +str(c))"
   ]
  },
  {
   "cell_type": "code",
   "execution_count": 22,
   "id": "fb0f02bc",
   "metadata": {},
   "outputs": [
    {
     "name": "stdout",
     "output_type": "stream",
     "text": [
      "50\n",
      "60\n",
      "90\n",
      "gicti\n"
     ]
    }
   ],
   "source": [
    "vise= int(input())\n",
    "final=int(input())\n",
    "odev=int(input())\n",
    "ortalama=vise*30/100+final*50/100+odev*20/100\n",
    "if final<50:\n",
    "    print('kaldi')\n",
    "elif ortalama<0:\n",
    "    print('laldiniz')\n",
    "else:\n",
    "    print('gicti')"
   ]
  },
  {
   "cell_type": "code",
   "execution_count": 24,
   "id": "5d257ec2",
   "metadata": {},
   "outputs": [
    {
     "name": "stdout",
     "output_type": "stream",
     "text": [
      "birinci sayi:5\n",
      "ikinci sayi8\n",
      "ikinci sayi daha buyuk\n"
     ]
    }
   ],
   "source": [
    "a=int(input('birinci sayi:'))\n",
    "b=int(input('ikinci sayi'))\n",
    "if a>b:\n",
    "    print('birinci sayi daha buyuk')\n",
    "elif b>a:\n",
    "    print('ikinci sayi daha buyuk')\n",
    "else:\n",
    "    print('sayilar isittir')\n",
    "    "
   ]
  },
  {
   "cell_type": "markdown",
   "id": "25925675",
   "metadata": {},
   "source": [
    "# hafta 3 operatorler\n",
    "saginda ve solunda degerler arasinda iliski kuran isaritlerder"
   ]
  },
  {
   "cell_type": "markdown",
   "id": "2ccd8ac7",
   "metadata": {},
   "source": [
    "## artimetik operatorler\n",
    "'+' toplama\n",
    "'-' cikarma\n",
    "'/' bolme\n",
    " '*'carbma\n",
    "'**' kuvvet\n",
    "'%' mod alma\n",
    "'//' taban bolme\n"
   ]
  },
  {
   "cell_type": "markdown",
   "id": "130918e8",
   "metadata": {},
   "source": [
    "## bool oreratorleri\n",
    "herhangi bir ifadenin dogru(true) or (false) olmasinin "
   ]
  },
  {
   "cell_type": "code",
   "execution_count": null,
   "id": "65be341b",
   "metadata": {},
   "outputs": [],
   "source": []
  }
 ],
 "metadata": {
  "kernelspec": {
   "display_name": "Python 3 (ipykernel)",
   "language": "python",
   "name": "python3"
  },
  "language_info": {
   "codemirror_mode": {
    "name": "ipython",
    "version": 3
   },
   "file_extension": ".py",
   "mimetype": "text/x-python",
   "name": "python",
   "nbconvert_exporter": "python",
   "pygments_lexer": "ipython3",
   "version": "3.9.12"
  }
 },
 "nbformat": 4,
 "nbformat_minor": 5
}
