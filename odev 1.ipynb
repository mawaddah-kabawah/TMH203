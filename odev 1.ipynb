{
 "cells": [
  {
   "cell_type": "markdown",
   "id": "e0bc8bb4",
   "metadata": {},
   "source": [
    "## first home work"
   ]
  },
  {
   "cell_type": "markdown",
   "id": "32fe1b1e",
   "metadata": {},
   "source": [
    "* 1- finiding the acceleration"
   ]
  },
  {
   "cell_type": "code",
   "execution_count": 1,
   "id": "16a7df27",
   "metadata": {},
   "outputs": [
    {
     "name": "stdout",
     "output_type": "stream",
     "text": [
      "input the vinal velocity: 6\n",
      "input the initial velocity: 2\n",
      "input the time2\n",
      "the acceleration is 2.0 m/s**2\n"
     ]
    }
   ],
   "source": [
    "v2=int(input('input the final velocity: '))\n",
    "v1=int(input('input the initial velocity: '))\n",
    "time=int(input('input the time'))\n",
    "a=(v2-v1)/time\n",
    "print('the acceleration is {} m/s**2' . format(a))"
   ]
  },
  {
   "cell_type": "markdown",
   "id": "6798db02",
   "metadata": {},
   "source": [
    "* 2- circumference of a circle"
   ]
  },
  {
   "cell_type": "code",
   "execution_count": 3,
   "id": "1661643d",
   "metadata": {},
   "outputs": [
    {
     "name": "stdout",
     "output_type": "stream",
     "text": [
      "input the radius of the circle: 2\n",
      "the answer is 12.56 cm\n"
     ]
    }
   ],
   "source": [
    "r=int(input('input the radius of the circle: '))\n",
    "pi=3.14\n",
    "circumference=r**2*pi\n",
    "print('the answer is {} cm' . format(circumference))"
   ]
  },
  {
   "cell_type": "markdown",
   "id": "1f7fd8de",
   "metadata": {},
   "source": [
    "* Finding the Type of Angle in a Triangle"
   ]
  },
  {
   "cell_type": "code",
   "execution_count": null,
   "id": "6b901192",
   "metadata": {},
   "outputs": [],
   "source": [
    "A=int(input('input A angle: '))\n",
    "B=int(input('input B angle: '))\n",
    "C=int(input('input C angle: '))\n",
    "if A==90:\n",
    "    print('Right-angled')\n",
    "elif B==90:\n",
    "    print('Right-angled')\n",
    "elif C==90:\n",
    "    print('Right-angled')\n",
    "elif A>90:\n",
    "    print('obtuse angle')\n",
    "elif B>90:\n",
    "    print('obtuse angle')\n",
    "elif C>90:\n",
    "    print('obtuse angle')\n",
    "else:\n",
    "    print('Acute angle')"
   ]
  },
  {
   "cell_type": "code",
   "execution_count": null,
   "id": "806ce7fd",
   "metadata": {},
   "outputs": [],
   "source": []
  },
  {
   "cell_type": "code",
   "execution_count": null,
   "id": "722f114f",
   "metadata": {},
   "outputs": [],
   "source": []
  },
  {
   "cell_type": "code",
   "execution_count": null,
   "id": "5da3f612",
   "metadata": {},
   "outputs": [],
   "source": []
  },
  {
   "cell_type": "code",
   "execution_count": null,
   "id": "79704e59",
   "metadata": {},
   "outputs": [],
   "source": []
  }
 ],
 "metadata": {
  "kernelspec": {
   "display_name": "Python 3 (ipykernel)",
   "language": "python",
   "name": "python3"
  },
  "language_info": {
   "codemirror_mode": {
    "name": "ipython",
    "version": 3
   },
   "file_extension": ".py",
   "mimetype": "text/x-python",
   "name": "python",
   "nbconvert_exporter": "python",
   "pygments_lexer": "ipython3",
   "version": "3.9.12"
  }
 },
 "nbformat": 4,
 "nbformat_minor": 5
}
